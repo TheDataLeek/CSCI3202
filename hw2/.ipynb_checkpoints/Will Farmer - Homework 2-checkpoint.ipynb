{
 "cells": [
  {
   "cell_type": "code",
   "execution_count": 3,
   "metadata": {
    "collapsed": false
   },
   "outputs": [],
   "source": [
    "import numpy as np\n",
    "import matplotlib.pyplot as plt\n",
    "import networkx as nx\n",
    "\n",
    "%matplotlib inline"
   ]
  },
  {
   "cell_type": "markdown",
   "metadata": {},
   "source": [
    "# Problem 1\n",
    "\n",
    "*In an unweighted graph, which algorithm, DFS and/or BFS is guaranteed to find the optimal shortest path? Include an example.*\n",
    "\n",
    "BFS is guaranteed to find shortest path, and as an example we can use the following graph."
   ]
  },
  {
   "cell_type": "code",
   "execution_count": 4,
   "metadata": {
    "collapsed": false
   },
   "outputs": [
    {
     "data": {
      "image/png": "[encoded data removed]",
      "text/plain": [
       "<matplotlib.figure.Figure at 0x7f3fab902fd0>"
      ]
     },
     "metadata": {},
     "output_type": "display_data"
    }
   ],
   "source": [
    "G = nx.Graph()\n",
    "G.add_edges_from([('A', 'B'), ('B', 'C'),\n",
    "                  ('B', 'D'), ('C', 'D'),\n",
    "                  ('C', 'E')])\n",
    "layout = nx.spectral_layout(G)\n",
    "nx.draw_networkx(G, layout)\n",
    "nx.draw_networkx_labels(G, layout)\n",
    "plt.axis('off')\n",
    "plt.show()"
   ]
  },
  {
   "cell_type": "markdown",
   "metadata": {},
   "source": [
    "If we start from the node $A$ and try to find the shortest path to $E$, by DFS a possible route could be $A \\to B \\to D \\to C \\to E$, but by BFS the optimal route will be found first."
   ]
  },
  {
   "cell_type": "markdown",
   "metadata": {},
   "source": [
    "# Problem 2\n",
    "\n",
    "*Consider a state space where the start state is the number 1 and the successor function for state $n$ returns two states $2n$ and $2n+1$*\n",
    "\n",
    "*A) Draw the portion of the state space for states $1$ to $15$.*\n"
   ]
  },
  {
   "cell_type": "code",
   "execution_count": 21,
   "metadata": {
    "collapsed": false
   },
   "outputs": [
    {
     "data": {
      "text/plain": [
       "[1,\n",
       " [2, 3],\n",
       " [4, 5],\n",
       " [6, 7],\n",
       " [8, 9],\n",
       " [10, 11],\n",
       " [12, 13],\n",
       " [14, 15],\n",
       " [16, 17],\n",
       " [18, 19],\n",
       " [20, 21],\n",
       " [22, 23],\n",
       " [24, 25],\n",
       " [26, 27],\n",
       " [28, 29]]"
      ]
     },
     "execution_count": 21,
     "metadata": {},
     "output_type": "execute_result"
    }
   ],
   "source": [
    "[1] + [[2 * (i + 1), 2 * (i + 1) + 1] for i in range(14)]"
   ]
  },
  {
   "cell_type": "markdown",
   "metadata": {
    "collapsed": false
   },
   "source": [
    "*For a goal state of 11, list the order in which nodes will be visited for BFS, DLS with limit 3, and iterative deepening search.*\n",
    "\n",
    "1) BFS"
   ]
  },
  {
   "cell_type": "code",
   "execution_count": 27,
   "metadata": {
    "collapsed": false
   },
   "outputs": [
    {
     "data": {
      "text/plain": [
       "[1, 2, 3, 4, 5, 6, 7, 8, 9, 10, 11]"
      ]
     },
     "execution_count": 27,
     "metadata": {},
     "output_type": "execute_result"
    }
   ],
   "source": [
    "list(range(1,12))"
   ]
  },
  {
   "cell_type": "markdown",
   "metadata": {},
   "source": [
    "2) DLS"
   ]
  },
  {
   "cell_type": "code",
   "execution_count": 29,
   "metadata": {
    "collapsed": false
   },
   "outputs": [
    {
     "data": {
      "text/plain": [
       "[1, 2, 4, 6, 8, 10, 3, 5, 7, 9, 11]"
      ]
     },
     "execution_count": 29,
     "metadata": {},
     "output_type": "execute_result"
    }
   ],
   "source": [
    "[1] + list(range(2, 12, 2)) + list(range(3, 12, 2))"
   ]
  },
  {
   "cell_type": "markdown",
   "metadata": {},
   "source": [
    "3) Iterative Deepening"
   ]
  },
  {
   "cell_type": "code",
   "execution_count": 33,
   "metadata": {
    "collapsed": false
   },
   "outputs": [
    {
     "name": "stdout",
     "output_type": "stream",
     "text": [
      "[1]\n",
      "[1, 2, 3]\n",
      "[1, 2, 4, 3, 5]\n",
      "[1, 2, 4, 6, 3, 5, 7]\n",
      "[1, 2, 4, 6, 8, 3, 5, 7, 9]\n",
      "[1, 2, 4, 6, 8, 10, 3, 5, 7, 9, 11]\n",
      "[1, 2, 4, 6, 8, 10, 12, 3, 5, 7, 9, 11, 13]\n",
      "[1, 2, 4, 6, 8, 10, 12, 14, 3, 5, 7, 9, 11, 13, 15]\n",
      "[1, 2, 4, 6, 8, 10, 12, 14, 16, 3, 5, 7, 9, 11, 13, 15, 17]\n",
      "[1, 2, 4, 6, 8, 10, 12, 14, 16, 18, 3, 5, 7, 9, 11, 13, 15, 17, 19]\n",
      "[1, 2, 4, 6, 8, 10, 12, 14, 16, 18, 20, 3, 5, 7, 9, 11, 13, 15, 17, 19, 21]\n"
     ]
    }
   ],
   "source": [
    "for i in range(1, 12):\n",
    "    print([1] + list(range(2, 2 * i, 2)) + list(range(3, 2 * i + 1, 2)))"
   ]
  },
  {
   "cell_type": "markdown",
   "metadata": {
    "collapsed": true
   },
   "source": [
    "# Problem 3\n",
    "\n",
    "*The DFS algorithm in notes includes a visited property. Explain why visited exists. Use the following graph to provide an example.*\n",
    "\n",
    "If we don't have a visted property, we run the risk of getting caught in a loop. With the given graph, if there is no visited property, and we're trying to find shortest path from $F$ to $D$, we'll get stuck in the following loop."
   ]
  },
  {
   "cell_type": "code",
   "execution_count": 24,
   "metadata": {
    "collapsed": false
   },
   "outputs": [
    {
     "data": {
      "image/png": "[encoded data removed]",
      "text/plain": [
       "<matplotlib.figure.Figure at 0x7f3f5d1f9a20>"
      ]
     },
     "metadata": {},
     "output_type": "display_data"
    }
   ],
   "source": [
    "G = nx.DiGraph()\n",
    "G.add_edges_from([('F', 'B'), ('B', 'A'),\n",
    "                  ('A', 'E'), ('E', 'C'),\n",
    "                  ('C', 'B')])\n",
    "layout = nx.spectral_layout(G)\n",
    "nx.draw_networkx(G, layout)\n",
    "nx.draw_networkx_labels(G, layout)\n",
    "plt.axis('off')\n",
    "plt.show()"
   ]
  },
  {
   "cell_type": "markdown",
   "metadata": {},
   "source": [
    "# Problem 4\n",
    "\n",
    "*Iterative Deepening DFS restarts at the top of the tree on each iteration. Explain how the algorithm could be modified to restart at the current search depth instead of the root.*\n",
    "\n",
    "From the notes, the algorithm is as follows.\n",
    "\n",
    "```\n",
    "IterativeDeepening(vertex, goal, maxDepth)\n",
    "     for x = 0 to maxDepth\n",
    "          result = DLS(vertex, goal, x)\n",
    "          if result is not failure or cutoff\n",
    "               return result\n",
    "     return failure\n",
    "\n",
    "DLS(vertex, goal, depth)\n",
    "    if vertex.key == goal\n",
    "       return vertex\n",
    "    if depth == 0\n",
    "       return cutoff  //some value for cutoff needs to be set\n",
    "    vertex.visited = true\n",
    "    cutoff_occurred = false\n",
    "    for each v in vertex.adjacent\n",
    "         if(!v.visited)\n",
    "             v.parent = vertex\n",
    "             result = DLS(v, goal, depth--)\n",
    "             if result == cutoff\n",
    "                 cutoff_occurred = true\n",
    "             else if result != failure\n",
    "                 return result\n",
    "    if cutoff_occurred\n",
    "        return cutoff\n",
    "    else\n",
    "        return failure\n",
    "```\n",
    "\n",
    "If we want to make it restart at current search depth each time, then we have to  keep track of the nodes at each cutoff level, and recursively restart for each of those in order. This would involve specifically adding a recursive element to the `IterativeDeepening` algorithm.\n",
    "\n",
    "```\n",
    "IterativeDeepeningRestart(root, goal, maxDepth)\n",
    "    result, vertices = IterativeDeepening(root, goal, maxDepth)\n",
    "    while vertices is not empty:\n",
    "        result, new_vertices = IterativeDeepening(vertices.pop(), goal, maxDepth)\n",
    "        vertices += new_vertices\n",
    "        if result is goal:\n",
    "            return success\n",
    "    return failure\n",
    "    \n",
    "IterativeDeepening(vertex, goal, maxDepth)\n",
    "     for x = 0 to maxDepth\n",
    "          result = DLS(vertex, goal, x)\n",
    "          if result is not failure or cutoff\n",
    "               return result\n",
    "     return failure\n",
    "\n",
    "DLS(vertex, goal, depth)\n",
    "    if vertex.key == goal\n",
    "       return vertex, []\n",
    "    if depth == 0\n",
    "       return cutoff, []  //some value for cutoff needs to be set\n",
    "    vertex.visited = true\n",
    "    cutoff_occurred = false\n",
    "    for each v in vertex.adjacent\n",
    "         if(!v.visited)\n",
    "             v.parent = vertex\n",
    "             result = DLS(v, goal, depth--)\n",
    "             if result == cutoff\n",
    "                 cutoff_occurred = true\n",
    "             else if result != failure\n",
    "                 return result, vertex.adjacent\n",
    "    if cutoff_occurred\n",
    "        return cutoff, last_vertex.adjacent\n",
    "    else\n",
    "        return failure, last_vertex_adjacent\n",
    "```"
   ]
  },
  {
   "cell_type": "markdown",
   "metadata": {},
   "source": [
    "# Problem 5\n",
    "\n",
    "*Explain why True/False: Every node in the list of solved nodes in Dijkstra's algorithm is part of the final solution.*\n",
    "\n",
    "True, as we specifically care about the shortest path from nodes $A$ and $B$, and we need to keep track of these nodes."
   ]
  },
  {
   "cell_type": "code",
   "execution_count": null,
   "metadata": {
    "collapsed": true
   },
   "outputs": [],
   "source": []
  }
 ],
 "metadata": {
  "kernelspec": {
   "display_name": "Python 3",
   "language": "python",
   "name": "python3"
  },
  "language_info": {
   "codemirror_mode": {
    "name": "ipython",
    "version": 3
   },
   "file_extension": ".py",
   "mimetype": "text/x-python",
   "name": "python",
   "nbconvert_exporter": "python",
   "pygments_lexer": "ipython3",
   "version": "3.5.2"
  }
 },
 "nbformat": 4,
 "nbformat_minor": 1
}
