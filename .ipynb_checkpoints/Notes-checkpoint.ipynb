{
 "cells": [
  {
   "cell_type": "markdown",
   "metadata": {},
   "source": [
    "# Search Algorithms"
   ]
  },
  {
   "cell_type": "markdown",
   "metadata": {},
   "source": [
    "## Breadth First Search (BFS)\n",
    "\n",
    "Here's the [Wikipedia](https://en.wikipedia.org/wiki/Breadth-first_search) link.\n",
    "\n",
    "TL;DR Get further and further out as you search.\n",
    "\n",
    "$O(|V| + |E|)$\n",
    "\n",
    "```python\n",
    "def BFS(graph, root):\n",
    "  for node in graph:\n",
    "    node.distance = inf\n",
    "    node.parent = None\n",
    "  q = Queue()\n",
    "  root.distance = 0\n",
    "  q.put(root)\n",
    "  while not q.empty():\n",
    "    cnode = q.get()\n",
    "    for node in cnode.adjacent:\n",
    "      if node.distance = inf:\n",
    "        node.distance = cnode.distance + 1\n",
    "        node.parent = cnode\n",
    "        q.put(node)\n",
    "```"
   ]
  },
  {
   "cell_type": "markdown",
   "metadata": {},
   "source": [
    "## Depth First Search (DFS)\n",
    "\n",
    "[Wikipedia](https://en.wikipedia.org/wiki/Depth-first_search). TL;DR search all the way down before going out.\n",
    "\n",
    "```python\n",
    "def DFS(root):\n",
    "  root.discovered = True\n",
    "  for node in root.adjacent:\n",
    "    if node.discoverd == False:\n",
    "      DFS(node)\n",
    "```"
   ]
  },
  {
   "cell_type": "markdown",
   "metadata": {},
   "source": [
    "# Heuristics\n",
    "\n",
    "[Wikipedia](https://en.wikipedia.org/wiki/Heuristic_(computer_science)). Rank algorithm based on information available."
   ]
  },
  {
   "cell_type": "markdown",
   "metadata": {},
   "source": [
    "# Graph Traversal"
   ]
  },
  {
   "cell_type": "markdown",
   "metadata": {},
   "source": [
    "## Dijkstra's Algorithm\n",
    "\n",
    "[Wikipedia](https://en.wikipedia.org/wiki/Dijkstra%27s_algorithm)\n",
    "\n",
    "```python\n",
    "def dijkstra(graph, start_node, end_node):\n",
    "  for node in graph:\n",
    "    node.distance = inf\n",
    "    node.visited = False\n",
    "  start_node.distance = 0\n",
    "  cnode = start_node\n",
    "  # Using min-heap as unvisited helps\n",
    "  # with runtime, cause it's always sorted\n",
    "  unvisited = {n for n in graph.nodes if n.visited == False}\n",
    "  while True:\n",
    "    for node in cnode.adjacent:\n",
    "      tentative_distance = cnode.distance + 1 # or edge weight\n",
    "      if tentative_distance < node.distance:\n",
    "        node.distance = tentative_distance\n",
    "      cnode.visited = True\n",
    "      unvisited.remove(cnode)\n",
    "      if cnode == end_node:\n",
    "        break\n",
    "      cnode = unvisited.smallest_distance\n",
    "```"
   ]
  },
  {
   "cell_type": "markdown",
   "metadata": {},
   "source": [
    "## A* Search\n",
    "\n",
    "[Wikipedia](https://en.wikipedia.org/wiki/A*_search_algorithm) - very similar to Dijkstra...\n",
    "\n",
    "```python\n",
    "def A_star(graph, start, end):\n",
    "  closed_set = {}  # Nodes already evaluated\n",
    "  open_set = {}  # Nodes discovered to be evaluated\n",
    "  came_from = None  # for each node, its most efficient parent\n",
    "  for node in graph:\n",
    "    node.gscore = inf  # cost of getting from start to this node\n",
    "    node.fscore = inf  # cost of start to goal through node\n",
    "  start.gscore = 0\n",
    "  # start's fscore is completely heuristic\n",
    "  start.fscore = heuristic_estimate(start, goal)\n",
    "  while len(open_set) != 0:\n",
    "    cnode = lowest_fscore(open_set)\n",
    "    if cnode == end:\n",
    "      return reconstruct_path(camefrom, cnode)\n",
    "    open_set.remove(cnode)\n",
    "    closed_set.add(cnode)\n",
    "    for node in cnode.adjacent:\n",
    "      if node in closed_set:\n",
    "        next # ignore evaluated neighbors\n",
    "      tmp_gscore = cnode.gscore + dist_between(cnode, node)\n",
    "      if node not in open_set:\n",
    "        open_set.add(node) # discover a new node\n",
    "      elif tmp_gscore >= node.gscore:\n",
    "        next # this is not a better path\n",
    "      # Best path until now\n",
    "      cameFrom[node] = cnode\n",
    "      node.gscore = tmp_gscore\n",
    "      node.fscore = node.gscore + heuristic_estimate(node, end)\n",
    "  return False\n",
    "  \n",
    "def reconstruct(camefrom, current):\n",
    "  # basically go backwards from end to start\n",
    "  total_path = [current]\n",
    "  while current in cameFrom.keys:\n",
    "    current = camefrom[current]\n",
    "    total_path.append(current)\n",
    "  return total_path\n",
    "```"
   ]
  },
  {
   "cell_type": "markdown",
   "metadata": {},
   "source": [
    "# Adversarial Search"
   ]
  },
  {
   "cell_type": "markdown",
   "metadata": {},
   "source": [
    "## Minimax\n",
    "\n",
    "```\n",
    "minimax(node, depth, maxPlayer)\n",
    "    if depth == 0 or terminal(node) //terminal test is true\n",
    "        return f(node)  //evaluation of the node\n",
    "    if maxPlayer //Player(s) = MAX\n",
    "        bestValue = -MAX_INT //system property, maximum negative integer\n",
    "        for each child in node.adjacent\n",
    "            eval = minimax(child, depth - 1, FALSE)\n",
    "            print eval\n",
    "            bestValue = max(bestValue, eval)\n",
    "        return bestValue\n",
    "    else //Player(s) = MIN\n",
    "        bestValue = MAX_INT\n",
    "        for each child in node.adjacent\n",
    "            eval = minimax(child, depth - 1, TRUE)\n",
    "            print eval\n",
    "            bestValue = min(bestValue, eval)\n",
    "        return bestValue\n",
    "\n",
    "minimax(origin, depth, TRUE) //call from root for MAX player\n",
    "```"
   ]
  },
  {
   "cell_type": "markdown",
   "metadata": {},
   "source": [
    "## Minimax with $\\alpha$-$\\beta$ Pruning\n",
    "\n",
    "```python\n",
    "def alpha_beta_pruning(root, depth, player, alpha, beta):\n",
    "    if depth == 0 or root.is_empty:\n",
    "        return root.value\n",
    "    if player == 'MAX':\n",
    "        best = -inf\n",
    "        pruned = False\n",
    "        for child in root.children:\n",
    "            if pruned:\n",
    "                child.pruned = True\n",
    "            else:\n",
    "                best = max(best,\n",
    "                           alpha_beta_pruning(child, depth - 1, 'MIN',\n",
    "                                              alpha, beta))\n",
    "                alpha = max(alpha, best)\n",
    "                root.alpha = alpha\n",
    "                if beta <= alpha:\n",
    "                    pruned = True\n",
    "        print(root)\n",
    "        return best\n",
    "    else:\n",
    "        best = inf\n",
    "        pruned = False\n",
    "        for child in root.children:\n",
    "            if pruned:\n",
    "                child.pruned = True\n",
    "            else:\n",
    "                best = min(best,\n",
    "                           alpha_beta_pruning(child, depth - 1, 'MAX',\n",
    "                                              alpha, beta))\n",
    "                beta = min(beta, best)\n",
    "                root.beta = beta\n",
    "                if beta <= alpha:\n",
    "                    pruned = True\n",
    "        print(root)\n",
    "        return best\n",
    "```"
   ]
  },
  {
   "cell_type": "markdown",
   "metadata": {},
   "source": [
    "# Simulated Annealing"
   ]
  },
  {
   "cell_type": "markdown",
   "metadata": {},
   "source": [
    "# Genetic Algorithms"
   ]
  },
  {
   "cell_type": "code",
   "execution_count": null,
   "metadata": {
    "collapsed": true
   },
   "outputs": [],
   "source": []
  }
 ],
 "metadata": {
  "kernelspec": {
   "display_name": "Python 3",
   "language": "python",
   "name": "python3"
  },
  "language_info": {
   "codemirror_mode": {
    "name": "ipython",
    "version": 3
   },
   "file_extension": ".py",
   "mimetype": "text/x-python",
   "name": "python",
   "nbconvert_exporter": "python",
   "pygments_lexer": "ipython3",
   "version": "3.5.2"
  }
 },
 "nbformat": 4,
 "nbformat_minor": 1
}
